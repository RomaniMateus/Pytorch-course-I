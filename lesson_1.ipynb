{
  "cells": [
    {
      "cell_type": "markdown",
      "metadata": {
        "id": "view-in-github",
        "colab_type": "text"
      },
      "source": [
        "<a href=\"https://colab.research.google.com/github/RomaniMateus/Pytorch-course-I/blob/main/lesson_1.ipynb\" target=\"_parent\"><img src=\"https://colab.research.google.com/assets/colab-badge.svg\" alt=\"Open In Colab\"/></a>"
      ]
    },
    {
      "cell_type": "code",
      "execution_count": 1,
      "id": "initial_id",
      "metadata": {
        "collapsed": true,
        "ExecuteTime": {
          "end_time": "2023-10-16T15:02:40.763114941Z",
          "start_time": "2023-10-16T15:02:40.732126781Z"
        },
        "id": "initial_id"
      },
      "outputs": [],
      "source": [
        "import torch\n",
        "import numpy as np"
      ]
    },
    {
      "cell_type": "markdown",
      "id": "361ea5aee2a37aef",
      "metadata": {
        "id": "361ea5aee2a37aef"
      },
      "source": [
        "# 1. Working with different types of tensors"
      ]
    },
    {
      "cell_type": "code",
      "execution_count": 2,
      "id": "17dabc649a69c00e",
      "metadata": {
        "ExecuteTime": {
          "end_time": "2023-10-16T15:02:40.883467729Z",
          "start_time": "2023-10-16T15:02:40.738860983Z"
        },
        "id": "17dabc649a69c00e",
        "outputId": "09a6988c-ce70-487c-a73b-5cb69928e4d6",
        "colab": {
          "base_uri": "https://localhost:8080/"
        }
      },
      "outputs": [
        {
          "output_type": "stream",
          "name": "stdout",
          "text": [
            "torch.float32\n",
            "tensor([[1., 2., 3.],\n",
            "        [4., 5., 6.]])\n"
          ]
        }
      ],
      "source": [
        "float_list = [[1, 2, 3], [4, 5, 6]]\n",
        "tns = torch.FloatTensor(float_list)\n",
        "print(tns.dtype)\n",
        "print(tns)"
      ]
    },
    {
      "cell_type": "code",
      "execution_count": 3,
      "id": "ef93a06415718c18",
      "metadata": {
        "ExecuteTime": {
          "end_time": "2023-10-16T15:02:40.940420947Z",
          "start_time": "2023-10-16T15:02:40.869914726Z"
        },
        "id": "ef93a06415718c18",
        "outputId": "5cf431b5-779d-4f15-8751-300659a34978",
        "colab": {
          "base_uri": "https://localhost:8080/"
        }
      },
      "outputs": [
        {
          "output_type": "stream",
          "name": "stdout",
          "text": [
            "torch.int64\n",
            "tensor([[1, 2, 3],\n",
            "        [4, 5, 6]])\n"
          ]
        }
      ],
      "source": [
        "int_list = [[1, 2, 3], [4, 5, 6]]\n",
        "tns = torch.LongTensor(int_list)\n",
        "print(tns.dtype)\n",
        "print(tns)"
      ]
    },
    {
      "cell_type": "markdown",
      "source": [
        "## Other ways to initialize tensors\n",
        "\n",
        "### From numpy array"
      ],
      "metadata": {
        "collapsed": false,
        "id": "750b43ef30e47c83"
      },
      "id": "750b43ef30e47c83"
    },
    {
      "cell_type": "code",
      "execution_count": 4,
      "outputs": [
        {
          "output_type": "stream",
          "name": "stdout",
          "text": [
            "[[-0.42105167  0.904173   -1.09933162]\n",
            " [ 1.79458507 -1.45728585  1.37098994]]\n",
            "tensor([[-0.4211,  0.9042, -1.0993],\n",
            "        [ 1.7946, -1.4573,  1.3710]], dtype=torch.float64)\n"
          ]
        }
      ],
      "source": [
        "numpy_list = np.random.randn(2, 3)\n",
        "numpy_tensor = torch.from_numpy(numpy_list)\n",
        "\n",
        "print(numpy_list)\n",
        "print(numpy_tensor)"
      ],
      "metadata": {
        "ExecuteTime": {
          "end_time": "2023-10-16T15:02:41.052434420Z",
          "start_time": "2023-10-16T15:02:40.931626030Z"
        },
        "id": "bfea82090a1c733f",
        "outputId": "44a88806-add7-4ecb-ccf1-1603bf79dda2",
        "colab": {
          "base_uri": "https://localhost:8080/"
        }
      },
      "id": "bfea82090a1c733f"
    },
    {
      "cell_type": "markdown",
      "source": [
        "### From default tensors (ones, zeros and random)\n",
        "\n",
        "`torch.ones()` -> Returns a tensor filled with the scalar value 1, with the shape defined by the variable argument `size`.\n",
        "\n",
        "`torch.zeros()` -> Returns a tensor filled with the scalar value 0, with the shape defined by the variable argument `size`.\n",
        "\n",
        "`torch.randn()` -> Returns a tensor filled with random numbers from a normal distribution with mean 0 and variance 1, with the shape defined by the variable argument `size`."
      ],
      "metadata": {
        "collapsed": false,
        "id": "391f3e2ce4dbfcf0"
      },
      "id": "391f3e2ce4dbfcf0"
    },
    {
      "cell_type": "code",
      "execution_count": 5,
      "outputs": [
        {
          "output_type": "stream",
          "name": "stdout",
          "text": [
            "tensor([[1., 1., 1.],\n",
            "        [1., 1., 1.]])\n"
          ]
        }
      ],
      "source": [
        "ones_tensor = torch.ones((2, 3))\n",
        "print(ones_tensor)"
      ],
      "metadata": {
        "ExecuteTime": {
          "end_time": "2023-10-16T15:02:41.132191520Z",
          "start_time": "2023-10-16T15:02:41.069833265Z"
        },
        "id": "8474e27c56acf3f",
        "outputId": "cf34642c-06ad-413f-ff54-639a9d786992",
        "colab": {
          "base_uri": "https://localhost:8080/"
        }
      },
      "id": "8474e27c56acf3f"
    },
    {
      "cell_type": "code",
      "execution_count": 6,
      "outputs": [
        {
          "output_type": "stream",
          "name": "stdout",
          "text": [
            "tensor([[0., 0., 0.],\n",
            "        [0., 0., 0.]])\n"
          ]
        }
      ],
      "source": [
        "zeros_tensor = torch.zeros((2, 3))\n",
        "print(zeros_tensor)"
      ],
      "metadata": {
        "ExecuteTime": {
          "end_time": "2023-10-16T15:02:41.247055991Z",
          "start_time": "2023-10-16T15:02:41.124058875Z"
        },
        "id": "5c7236195aae2f3d",
        "outputId": "c755b146-b5ec-45fc-aa15-5a6af44352c3",
        "colab": {
          "base_uri": "https://localhost:8080/"
        }
      },
      "id": "5c7236195aae2f3d"
    },
    {
      "cell_type": "code",
      "execution_count": 7,
      "outputs": [
        {
          "output_type": "stream",
          "name": "stdout",
          "text": [
            "tensor([[ 0.8466, -0.1844, -0.5630],\n",
            "        [-1.0801, -0.0112,  0.6815]])\n"
          ]
        }
      ],
      "source": [
        "randn_tensor = torch.randn((2, 3))\n",
        "print(randn_tensor)"
      ],
      "metadata": {
        "ExecuteTime": {
          "end_time": "2023-10-16T15:02:41.355405828Z",
          "start_time": "2023-10-16T15:02:41.289879700Z"
        },
        "id": "dfbe3fe495b6d243",
        "outputId": "5d48731f-6393-41c6-ba75-ee023d086f5b",
        "colab": {
          "base_uri": "https://localhost:8080/"
        }
      },
      "id": "dfbe3fe495b6d243"
    },
    {
      "cell_type": "markdown",
      "source": [
        "### From tensors to numpy arrays"
      ],
      "metadata": {
        "collapsed": false,
        "id": "73b5eaf0359d1928"
      },
      "id": "73b5eaf0359d1928"
    },
    {
      "cell_type": "code",
      "execution_count": 8,
      "outputs": [
        {
          "output_type": "stream",
          "name": "stdout",
          "text": [
            "[[ 0.84662384 -0.18443875 -0.5630274 ]\n",
            " [-1.080127   -0.01115962  0.6815074 ]]\n"
          ]
        }
      ],
      "source": [
        "numpy_from_tensor = randn_tensor.data.numpy()\n",
        "print(numpy_from_tensor)"
      ],
      "metadata": {
        "ExecuteTime": {
          "end_time": "2023-10-16T15:02:41.449050590Z",
          "start_time": "2023-10-16T15:02:41.338323694Z"
        },
        "id": "b68b1ff8c1c43923",
        "outputId": "0bc7e852-23c8-440c-a2f2-4f500423515b",
        "colab": {
          "base_uri": "https://localhost:8080/"
        }
      },
      "id": "b68b1ff8c1c43923"
    },
    {
      "cell_type": "markdown",
      "source": [
        "# 2. Slicing operations on tensors\n",
        "\n",
        "The syntax for slicing operations on tensors is similar to that of numpy arrays, using the square brackets and the colon `:` symbol."
      ],
      "metadata": {
        "collapsed": false,
        "id": "f3567c32074829f9"
      },
      "id": "f3567c32074829f9"
    },
    {
      "cell_type": "code",
      "execution_count": 9,
      "outputs": [
        {
          "output_type": "stream",
          "name": "stdout",
          "text": [
            "tensor([[1., 2., 3.],\n",
            "        [4., 5., 6.]])\n",
            "Slice example:\n",
            " tensor([[2., 3.],\n",
            "        [5., 6.]])\n"
          ]
        }
      ],
      "source": [
        "tnsr = torch.FloatTensor([[1, 2, 3], [4, 5, 6]])\n",
        "print(tnsr)\n",
        "\n",
        "tnsr_slice = tnsr[:, 1:]\n",
        "print(\"Slice example:\\n\", tnsr_slice)"
      ],
      "metadata": {
        "ExecuteTime": {
          "end_time": "2023-10-16T15:02:41.539562796Z",
          "start_time": "2023-10-16T15:02:41.430753944Z"
        },
        "id": "58e0530beef3442c",
        "outputId": "51c2f44d-b291-4185-b3e3-bb8b3f2d255d",
        "colab": {
          "base_uri": "https://localhost:8080/"
        }
      },
      "id": "58e0530beef3442c"
    },
    {
      "cell_type": "code",
      "execution_count": 10,
      "outputs": [
        {
          "output_type": "stream",
          "name": "stdout",
          "text": [
            "tensor([[0., 2., 3.],\n",
            "        [0., 5., 6.]])\n"
          ]
        }
      ],
      "source": [
        "tnsr[:2, 0] = 0\n",
        "print(tnsr)"
      ],
      "metadata": {
        "id": "d5506379c3fd0072",
        "outputId": "f44dae68-5781-4ae7-cc94-d536a2d48cf9",
        "colab": {
          "base_uri": "https://localhost:8080/"
        }
      },
      "id": "d5506379c3fd0072"
    },
    {
      "cell_type": "markdown",
      "source": [
        "# 3. Functions .size() and .view()\n",
        "\n",
        "The function `.size()` returns the shape of a tensor. The function `.view()` returns a new tensor with the same data as the original tensor but with a different shape."
      ],
      "metadata": {
        "collapsed": false,
        "id": "2fc91cf638972edd"
      },
      "id": "2fc91cf638972edd"
    },
    {
      "cell_type": "code",
      "execution_count": 11,
      "outputs": [
        {
          "output_type": "stream",
          "name": "stdout",
          "text": [
            "tensor([[0., 2., 3.],\n",
            "        [0., 5., 6.]])\n"
          ]
        }
      ],
      "source": [
        "print(tnsr)"
      ],
      "metadata": {
        "ExecuteTime": {
          "end_time": "2023-10-16T15:05:14.144292343Z",
          "start_time": "2023-10-16T15:05:14.095268453Z"
        },
        "id": "20b0518dce3593e8",
        "outputId": "15fd7ce0-ac82-44f0-90bd-6655f303db29",
        "colab": {
          "base_uri": "https://localhost:8080/"
        }
      },
      "id": "20b0518dce3593e8"
    },
    {
      "cell_type": "code",
      "execution_count": 12,
      "outputs": [
        {
          "output_type": "stream",
          "name": "stdout",
          "text": [
            "torch.Size([2, 3])\n"
          ]
        }
      ],
      "source": [
        "print(tnsr.size())"
      ],
      "metadata": {
        "ExecuteTime": {
          "end_time": "2023-10-16T15:04:01.704815130Z",
          "start_time": "2023-10-16T15:04:01.530203191Z"
        },
        "id": "e8e24acd8dc7a41d",
        "outputId": "4894d081-948c-4919-cc42-c2295e838f8f",
        "colab": {
          "base_uri": "https://localhost:8080/"
        }
      },
      "id": "e8e24acd8dc7a41d"
    },
    {
      "cell_type": "code",
      "execution_count": 13,
      "outputs": [
        {
          "output_type": "stream",
          "name": "stdout",
          "text": [
            "tensor([0., 2., 3., 0., 5., 6.])\n",
            "tensor([[0., 2.],\n",
            "        [3., 0.],\n",
            "        [5., 6.]])\n",
            "tensor([[0.],\n",
            "        [2.],\n",
            "        [3.],\n",
            "        [0.],\n",
            "        [5.],\n",
            "        [6.]])\n"
          ]
        }
      ],
      "source": [
        "one_dimensional_tnsr = tnsr.view(-1)\n",
        "two_dimensional_tnsr = tnsr.view(3, 2)\n",
        "one_column_tnsr = tnsr.view(6, 1)\n",
        "\n",
        "print(one_dimensional_tnsr)\n",
        "print(two_dimensional_tnsr)\n",
        "print(one_column_tnsr)"
      ],
      "metadata": {
        "ExecuteTime": {
          "end_time": "2023-10-16T15:07:36.109209432Z",
          "start_time": "2023-10-16T15:07:36.054573351Z"
        },
        "id": "11f928af40b96cd4",
        "outputId": "523991e1-7ab1-4250-d6d1-bc4b9d207d7b",
        "colab": {
          "base_uri": "https://localhost:8080/"
        }
      },
      "id": "11f928af40b96cd4"
    },
    {
      "cell_type": "code",
      "execution_count": 14,
      "outputs": [
        {
          "output_type": "stream",
          "name": "stdout",
          "text": [
            "torch.Size([6])\n",
            "torch.Size([3, 2])\n",
            "torch.Size([6, 1])\n"
          ]
        }
      ],
      "source": [
        "print(one_dimensional_tnsr.size())\n",
        "print(two_dimensional_tnsr.size())\n",
        "print(one_column_tnsr.size())\n",
        "\n"
      ],
      "metadata": {
        "id": "6fba3a49e23647fc",
        "outputId": "58184368-e582-47b7-ae08-cf28acc24516",
        "colab": {
          "base_uri": "https://localhost:8080/"
        }
      },
      "id": "6fba3a49e23647fc"
    },
    {
      "cell_type": "markdown",
      "source": [
        "# 4. GPU Casting\n",
        "\n",
        "In order to cast a tensor to GPU, we need to use the `.cuda()` function. In order to cast a tensor to CPU, we need to use the `.cpu()` function."
      ],
      "metadata": {
        "collapsed": false,
        "id": "b12a9ab7b203a37d"
      },
      "id": "b12a9ab7b203a37d"
    },
    {
      "cell_type": "code",
      "execution_count": 16,
      "outputs": [
        {
          "output_type": "stream",
          "name": "stdout",
          "text": [
            "cuda\n"
          ]
        }
      ],
      "source": [
        "if torch.cuda.is_available():\n",
        "    device = torch.device(\"cuda\")\n",
        "else:\n",
        "    device = torch.device(\"cpu\")\n",
        "\n",
        "print(device)\n",
        "\n"
      ],
      "metadata": {
        "ExecuteTime": {
          "end_time": "2023-10-16T15:11:30.578157590Z",
          "start_time": "2023-10-16T15:11:30.457456216Z"
        },
        "id": "fa2e48008c3328eb",
        "outputId": "0e0a8624-dae8-48f4-8107-c4089c238bbe",
        "colab": {
          "base_uri": "https://localhost:8080/"
        }
      },
      "id": "fa2e48008c3328eb"
    },
    {
      "cell_type": "markdown",
      "source": [],
      "metadata": {
        "collapsed": false,
        "id": "80b97e9365cb3218"
      },
      "id": "80b97e9365cb3218"
    }
  ],
  "metadata": {
    "kernelspec": {
      "display_name": "Python 3",
      "name": "python3"
    },
    "language_info": {
      "codemirror_mode": {
        "name": "ipython",
        "version": 3
      },
      "file_extension": ".py",
      "mimetype": "text/x-python",
      "name": "python",
      "nbconvert_exporter": "python",
      "pygments_lexer": "ipython3",
      "version": "3.10.13"
    },
    "colab": {
      "provenance": [],
      "gpuType": "T4",
      "include_colab_link": true
    },
    "accelerator": "GPU"
  },
  "nbformat": 4,
  "nbformat_minor": 5
}