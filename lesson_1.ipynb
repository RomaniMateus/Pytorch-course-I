{
 "cells": [
  {
   "cell_type": "code",
   "execution_count": 35,
   "id": "initial_id",
   "metadata": {
    "collapsed": true,
    "ExecuteTime": {
     "end_time": "2023-10-16T15:02:40.763114941Z",
     "start_time": "2023-10-16T15:02:40.732126781Z"
    }
   },
   "outputs": [],
   "source": [
    "import torch\n",
    "import numpy as np"
   ]
  },
  {
   "cell_type": "markdown",
   "id": "361ea5aee2a37aef",
   "metadata": {},
   "source": [
    "# 1. Working with different types of tensors"
   ]
  },
  {
   "cell_type": "code",
   "execution_count": 36,
   "id": "17dabc649a69c00e",
   "metadata": {
    "ExecuteTime": {
     "end_time": "2023-10-16T15:02:40.883467729Z",
     "start_time": "2023-10-16T15:02:40.738860983Z"
    }
   },
   "outputs": [
    {
     "name": "stdout",
     "output_type": "stream",
     "text": [
      "torch.float32\n",
      "tensor([[1., 2., 3.],\n",
      "        [4., 5., 6.]])\n"
     ]
    }
   ],
   "source": [
    "float_list = [[1, 2, 3], [4, 5, 6]]\n",
    "tns = torch.FloatTensor(float_list)\n",
    "print(tns.dtype)\n",
    "print(tns)"
   ]
  },
  {
   "cell_type": "code",
   "execution_count": 37,
   "id": "ef93a06415718c18",
   "metadata": {
    "ExecuteTime": {
     "end_time": "2023-10-16T15:02:40.940420947Z",
     "start_time": "2023-10-16T15:02:40.869914726Z"
    }
   },
   "outputs": [
    {
     "name": "stdout",
     "output_type": "stream",
     "text": [
      "torch.int64\n",
      "tensor([[1, 2, 3],\n",
      "        [4, 5, 6]])\n"
     ]
    }
   ],
   "source": [
    "int_list = [[1, 2, 3], [4, 5, 6]]\n",
    "tns = torch.LongTensor(int_list)\n",
    "print(tns.dtype)\n",
    "print(tns)"
   ]
  },
  {
   "cell_type": "markdown",
   "source": [
    "## Other ways to initialize tensors\n",
    "\n",
    "### From numpy array"
   ],
   "metadata": {
    "collapsed": false
   },
   "id": "750b43ef30e47c83"
  },
  {
   "cell_type": "code",
   "execution_count": 38,
   "outputs": [
    {
     "name": "stdout",
     "output_type": "stream",
     "text": [
      "[[-1.26378624 -0.45746096 -1.16605891]\n",
      " [-0.40208659 -1.19138426 -0.08647182]]\n",
      "tensor([[-1.2638, -0.4575, -1.1661],\n",
      "        [-0.4021, -1.1914, -0.0865]], dtype=torch.float64)\n"
     ]
    }
   ],
   "source": [
    "numpy_list = np.random.randn(2, 3)\n",
    "numpy_tensor = torch.from_numpy(numpy_list)\n",
    "\n",
    "print(numpy_list)\n",
    "print(numpy_tensor)"
   ],
   "metadata": {
    "collapsed": false,
    "ExecuteTime": {
     "end_time": "2023-10-16T15:02:41.052434420Z",
     "start_time": "2023-10-16T15:02:40.931626030Z"
    }
   },
   "id": "bfea82090a1c733f"
  },
  {
   "cell_type": "markdown",
   "source": [
    "### From default tensors (ones, zeros and random)\n",
    "\n",
    "`torch.ones()` -> Returns a tensor filled with the scalar value 1, with the shape defined by the variable argument `size`.\n",
    "\n",
    "`torch.zeros()` -> Returns a tensor filled with the scalar value 0, with the shape defined by the variable argument `size`.\n",
    "\n",
    "`torch.randn()` -> Returns a tensor filled with random numbers from a normal distribution with mean 0 and variance 1, with the shape defined by the variable argument `size`."
   ],
   "metadata": {
    "collapsed": false
   },
   "id": "391f3e2ce4dbfcf0"
  },
  {
   "cell_type": "code",
   "execution_count": 39,
   "outputs": [
    {
     "name": "stdout",
     "output_type": "stream",
     "text": [
      "tensor([[1., 1., 1.],\n",
      "        [1., 1., 1.]])\n"
     ]
    }
   ],
   "source": [
    "ones_tensor = torch.ones((2, 3))\n",
    "print(ones_tensor)"
   ],
   "metadata": {
    "collapsed": false,
    "ExecuteTime": {
     "end_time": "2023-10-16T15:02:41.132191520Z",
     "start_time": "2023-10-16T15:02:41.069833265Z"
    }
   },
   "id": "8474e27c56acf3f"
  },
  {
   "cell_type": "code",
   "execution_count": 40,
   "outputs": [
    {
     "name": "stdout",
     "output_type": "stream",
     "text": [
      "tensor([[0., 0., 0.],\n",
      "        [0., 0., 0.]])\n"
     ]
    }
   ],
   "source": [
    "zeros_tensor = torch.zeros((2, 3))\n",
    "print(zeros_tensor)"
   ],
   "metadata": {
    "collapsed": false,
    "ExecuteTime": {
     "end_time": "2023-10-16T15:02:41.247055991Z",
     "start_time": "2023-10-16T15:02:41.124058875Z"
    }
   },
   "id": "5c7236195aae2f3d"
  },
  {
   "cell_type": "code",
   "execution_count": 41,
   "outputs": [
    {
     "name": "stdout",
     "output_type": "stream",
     "text": [
      "tensor([[-0.1359, -0.3300, -1.3509],\n",
      "        [ 1.5725,  0.7202, -0.9631]])\n"
     ]
    }
   ],
   "source": [
    "randn_tensor = torch.randn((2, 3))\n",
    "print(randn_tensor)"
   ],
   "metadata": {
    "collapsed": false,
    "ExecuteTime": {
     "end_time": "2023-10-16T15:02:41.355405828Z",
     "start_time": "2023-10-16T15:02:41.289879700Z"
    }
   },
   "id": "dfbe3fe495b6d243"
  },
  {
   "cell_type": "markdown",
   "source": [
    "### From tensors to numpy arrays"
   ],
   "metadata": {
    "collapsed": false
   },
   "id": "73b5eaf0359d1928"
  },
  {
   "cell_type": "code",
   "execution_count": 42,
   "outputs": [
    {
     "name": "stdout",
     "output_type": "stream",
     "text": [
      "[[-0.13590503 -0.3300194  -1.350853  ]\n",
      " [ 1.5724803   0.72019446 -0.963121  ]]\n"
     ]
    }
   ],
   "source": [
    "numpy_from_tensor = randn_tensor.data.numpy()\n",
    "print(numpy_from_tensor)"
   ],
   "metadata": {
    "collapsed": false,
    "ExecuteTime": {
     "end_time": "2023-10-16T15:02:41.449050590Z",
     "start_time": "2023-10-16T15:02:41.338323694Z"
    }
   },
   "id": "b68b1ff8c1c43923"
  },
  {
   "cell_type": "markdown",
   "source": [
    "# 2. Slicing operations on tensors\n",
    "\n",
    "The syntax for slicing operations on tensors is similar to that of numpy arrays, using the square brackets and the colon `:` symbol."
   ],
   "metadata": {
    "collapsed": false
   },
   "id": "f3567c32074829f9"
  },
  {
   "cell_type": "code",
   "execution_count": 43,
   "outputs": [
    {
     "name": "stdout",
     "output_type": "stream",
     "text": [
      "tensor([[1., 2., 3.],\n",
      "        [4., 5., 6.]])\n",
      "Slice example:\n",
      " tensor([[2., 3.],\n",
      "        [5., 6.]])\n"
     ]
    }
   ],
   "source": [
    "tnsr = torch.FloatTensor([[1, 2, 3], [4, 5, 6]])\n",
    "print(tnsr)\n",
    "\n",
    "tnsr_slice = tnsr[:, 1:]\n",
    "print(\"Slice example:\\n\", tnsr_slice)"
   ],
   "metadata": {
    "collapsed": false,
    "ExecuteTime": {
     "end_time": "2023-10-16T15:02:41.539562796Z",
     "start_time": "2023-10-16T15:02:41.430753944Z"
    }
   },
   "id": "58e0530beef3442c"
  },
  {
   "cell_type": "code",
   "execution_count": null,
   "outputs": [],
   "source": [
    "tnsr[:2, 0] = 0\n",
    "print(tnsr)"
   ],
   "metadata": {
    "collapsed": false
   },
   "id": "d5506379c3fd0072"
  },
  {
   "cell_type": "markdown",
   "source": [
    "# 3. Functions .size() and .view()\n",
    "\n",
    "The function `.size()` returns the shape of a tensor. The function `.view()` returns a new tensor with the same data as the original tensor but with a different shape."
   ],
   "metadata": {
    "collapsed": false
   },
   "id": "2fc91cf638972edd"
  },
  {
   "cell_type": "code",
   "execution_count": 46,
   "outputs": [
    {
     "name": "stdout",
     "output_type": "stream",
     "text": [
      "tensor([[0., 2., 3.],\n",
      "        [0., 5., 6.]])\n"
     ]
    }
   ],
   "source": [
    "print(tnsr)"
   ],
   "metadata": {
    "collapsed": false,
    "ExecuteTime": {
     "end_time": "2023-10-16T15:05:14.144292343Z",
     "start_time": "2023-10-16T15:05:14.095268453Z"
    }
   },
   "id": "20b0518dce3593e8"
  },
  {
   "cell_type": "code",
   "execution_count": 45,
   "outputs": [
    {
     "name": "stdout",
     "output_type": "stream",
     "text": [
      "torch.Size([2, 3])\n"
     ]
    }
   ],
   "source": [
    "print(tnsr.size())"
   ],
   "metadata": {
    "collapsed": false,
    "ExecuteTime": {
     "end_time": "2023-10-16T15:04:01.704815130Z",
     "start_time": "2023-10-16T15:04:01.530203191Z"
    }
   },
   "id": "e8e24acd8dc7a41d"
  },
  {
   "cell_type": "code",
   "execution_count": 51,
   "outputs": [
    {
     "name": "stdout",
     "output_type": "stream",
     "text": [
      "tensor([0., 2., 3., 0., 5., 6.])\n",
      "tensor([[0., 2.],\n",
      "        [3., 0.],\n",
      "        [5., 6.]])\n",
      "tensor([[0.],\n",
      "        [2.],\n",
      "        [3.],\n",
      "        [0.],\n",
      "        [5.],\n",
      "        [6.]])\n"
     ]
    }
   ],
   "source": [
    "one_dimensional_tnsr = tnsr.view(-1)\n",
    "two_dimensional_tnsr = tnsr.view(3, 2)\n",
    "one_column_tnsr = tnsr.view(6, 1)\n",
    "\n",
    "print(one_dimensional_tnsr)\n",
    "print(two_dimensional_tnsr)\n",
    "print(one_column_tnsr)"
   ],
   "metadata": {
    "collapsed": false,
    "ExecuteTime": {
     "end_time": "2023-10-16T15:07:36.109209432Z",
     "start_time": "2023-10-16T15:07:36.054573351Z"
    }
   },
   "id": "11f928af40b96cd4"
  },
  {
   "cell_type": "code",
   "execution_count": null,
   "outputs": [],
   "source": [
    "print(one_dimensional_tnsr.size())\n",
    "print(two_dimensional_tnsr.size())\n",
    "print(one_column_tnsr.size())"
   ],
   "metadata": {
    "collapsed": false
   },
   "id": "6fba3a49e23647fc"
  },
  {
   "cell_type": "markdown",
   "source": [
    "# 4. GPU Casting\n",
    "\n",
    "In order to cast a tensor to GPU, we need to use the `.cuda()` function. In order to cast a tensor to CPU, we need to use the `.cpu()` function."
   ],
   "metadata": {
    "collapsed": false
   },
   "id": "b12a9ab7b203a37d"
  },
  {
   "cell_type": "code",
   "execution_count": 54,
   "outputs": [
    {
     "data": {
      "text/plain": "False"
     },
     "execution_count": 54,
     "metadata": {},
     "output_type": "execute_result"
    }
   ],
   "source": [
    "if torch.cuda.is_available():\n",
    "    device = torch.device(\"cuda\")\n",
    "else:\n",
    "    device = torch.device(\"cpu\")\n",
    "    \n",
    "print(device)"
   ],
   "metadata": {
    "collapsed": false,
    "ExecuteTime": {
     "end_time": "2023-10-16T15:11:30.578157590Z",
     "start_time": "2023-10-16T15:11:30.457456216Z"
    }
   },
   "id": "fa2e48008c3328eb"
  },
  {
   "cell_type": "markdown",
   "source": [],
   "metadata": {
    "collapsed": false
   },
   "id": "80b97e9365cb3218"
  }
 ],
 "metadata": {
  "kernelspec": {
   "display_name": "Python 3 (ipykernel)",
   "language": "python",
   "name": "python3"
  },
  "language_info": {
   "codemirror_mode": {
    "name": "ipython",
    "version": 3
   },
   "file_extension": ".py",
   "mimetype": "text/x-python",
   "name": "python",
   "nbconvert_exporter": "python",
   "pygments_lexer": "ipython3",
   "version": "3.10.13"
  }
 },
 "nbformat": 4,
 "nbformat_minor": 5
}
